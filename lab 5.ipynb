{
 "cells": [
  {
   "cell_type": "markdown",
   "source": [
    "# Костыль для исправления файла, честно позаимствован"
   ],
   "metadata": {
    "collapsed": false
   }
  },
  {
   "cell_type": "code",
   "execution_count": 1,
   "metadata": {
    "collapsed": true
   },
   "outputs": [],
   "source": [
    "import re\n",
    "from numpy import nan\n",
    "def fix_csv(csv_name):\n",
    "    csv = open(csv_name, 'r', encoding=\"UTF-8\")\n",
    "    newcsv = open(csv_name[:-4] + \"_R.csv\", 'w', encoding=\"UTF-8\")\n",
    "    names = csv.readline().strip()\n",
    "    newcsv.write(names.replace(' ', ',') + \"\\n\")\n",
    "    for line in csv.readlines():\n",
    "        check = re.search(r'\"(.*)\"', line)\n",
    "        if check:\n",
    "            for match in check.groups():\n",
    "                line = re.sub(match, match.replace(' ', '_'), line)\n",
    "        splited_list = line.split(' ')[1:]\n",
    "        if '' in splited_list:\n",
    "           splited_list[splited_list.index('')] = str(nan)\n",
    "        for i in range(len(splited_list)):\n",
    "            splited_list[i] = splited_list[i].replace('_', ' ')\n",
    "        newcsv.write(','.join(splited_list))\n",
    "    csv.close()\n",
    "    newcsv.close()"
   ]
  },
  {
   "cell_type": "markdown",
   "source": [
    "# Исправление сломанных файлов"
   ],
   "metadata": {
    "collapsed": false
   }
  },
  {
   "cell_type": "code",
   "execution_count": 2,
   "outputs": [],
   "source": [
    "fix_csv('cinema_sessions.csv')\n",
    "fix_csv('titanic_with_labels.csv')"
   ],
   "metadata": {
    "collapsed": false
   }
  },
  {
   "cell_type": "markdown",
   "source": [
    "# Основная часть"
   ],
   "metadata": {
    "collapsed": false
   }
  },
  {
   "cell_type": "code",
   "execution_count": 3,
   "outputs": [
    {
     "data": {
      "text/plain": "     sex  row_number  liters_drunk      age  drink  check_number  label  \\\n0      1        79.0      2.000000  Elderly      0        3116.0    0.0   \n1      0        23.0      2.476779    Child      0        8118.0    0.0   \n2      0        92.0      2.476779    Adult      0        2264.0    1.0   \n3      1        52.0      5.000000  Elderly      1        7640.0    1.0   \n4      1        57.0      2.000000    Adult      1        8764.0    0.0   \n...   ..         ...           ...      ...    ...           ...    ...   \n6662   1       100.0      3.000000    Child      0        1022.0    1.0   \n6663   0        15.0      3.000000  Elderly      1        6510.0    0.0   \n6664   1        11.0      3.000000  Elderly      1        9510.0    1.0   \n6665   0        96.0      5.000000  Elderly      1        9554.0    0.0   \n6666   1        26.0      2.476779    Adult      0        6198.0    1.0   \n\n     session_type  \n0         Evening  \n1             Day  \n2         Evening  \n3         Evening  \n4             Day  \n...           ...  \n6662          Day  \n6663      Evening  \n6664      Evening  \n6665          Day  \n6666      Morning  \n\n[6667 rows x 8 columns]",
      "text/html": "<div>\n<style scoped>\n    .dataframe tbody tr th:only-of-type {\n        vertical-align: middle;\n    }\n\n    .dataframe tbody tr th {\n        vertical-align: top;\n    }\n\n    .dataframe thead th {\n        text-align: right;\n    }\n</style>\n<table border=\"1\" class=\"dataframe\">\n  <thead>\n    <tr style=\"text-align: right;\">\n      <th></th>\n      <th>sex</th>\n      <th>row_number</th>\n      <th>liters_drunk</th>\n      <th>age</th>\n      <th>drink</th>\n      <th>check_number</th>\n      <th>label</th>\n      <th>session_type</th>\n    </tr>\n  </thead>\n  <tbody>\n    <tr>\n      <th>0</th>\n      <td>1</td>\n      <td>79.0</td>\n      <td>2.000000</td>\n      <td>Elderly</td>\n      <td>0</td>\n      <td>3116.0</td>\n      <td>0.0</td>\n      <td>Evening</td>\n    </tr>\n    <tr>\n      <th>1</th>\n      <td>0</td>\n      <td>23.0</td>\n      <td>2.476779</td>\n      <td>Child</td>\n      <td>0</td>\n      <td>8118.0</td>\n      <td>0.0</td>\n      <td>Day</td>\n    </tr>\n    <tr>\n      <th>2</th>\n      <td>0</td>\n      <td>92.0</td>\n      <td>2.476779</td>\n      <td>Adult</td>\n      <td>0</td>\n      <td>2264.0</td>\n      <td>1.0</td>\n      <td>Evening</td>\n    </tr>\n    <tr>\n      <th>3</th>\n      <td>1</td>\n      <td>52.0</td>\n      <td>5.000000</td>\n      <td>Elderly</td>\n      <td>1</td>\n      <td>7640.0</td>\n      <td>1.0</td>\n      <td>Evening</td>\n    </tr>\n    <tr>\n      <th>4</th>\n      <td>1</td>\n      <td>57.0</td>\n      <td>2.000000</td>\n      <td>Adult</td>\n      <td>1</td>\n      <td>8764.0</td>\n      <td>0.0</td>\n      <td>Day</td>\n    </tr>\n    <tr>\n      <th>...</th>\n      <td>...</td>\n      <td>...</td>\n      <td>...</td>\n      <td>...</td>\n      <td>...</td>\n      <td>...</td>\n      <td>...</td>\n      <td>...</td>\n    </tr>\n    <tr>\n      <th>6662</th>\n      <td>1</td>\n      <td>100.0</td>\n      <td>3.000000</td>\n      <td>Child</td>\n      <td>0</td>\n      <td>1022.0</td>\n      <td>1.0</td>\n      <td>Day</td>\n    </tr>\n    <tr>\n      <th>6663</th>\n      <td>0</td>\n      <td>15.0</td>\n      <td>3.000000</td>\n      <td>Elderly</td>\n      <td>1</td>\n      <td>6510.0</td>\n      <td>0.0</td>\n      <td>Evening</td>\n    </tr>\n    <tr>\n      <th>6664</th>\n      <td>1</td>\n      <td>11.0</td>\n      <td>3.000000</td>\n      <td>Elderly</td>\n      <td>1</td>\n      <td>9510.0</td>\n      <td>1.0</td>\n      <td>Evening</td>\n    </tr>\n    <tr>\n      <th>6665</th>\n      <td>0</td>\n      <td>96.0</td>\n      <td>5.000000</td>\n      <td>Elderly</td>\n      <td>1</td>\n      <td>9554.0</td>\n      <td>0.0</td>\n      <td>Day</td>\n    </tr>\n    <tr>\n      <th>6666</th>\n      <td>1</td>\n      <td>26.0</td>\n      <td>2.476779</td>\n      <td>Adult</td>\n      <td>0</td>\n      <td>6198.0</td>\n      <td>1.0</td>\n      <td>Morning</td>\n    </tr>\n  </tbody>\n</table>\n<p>6667 rows × 8 columns</p>\n</div>"
     },
     "execution_count": 3,
     "metadata": {},
     "output_type": "execute_result"
    }
   ],
   "source": [
    "import pandas as pd\n",
    "\n",
    "def select(item, group):\n",
    "    for group in group:\n",
    "        if item < group[0]:\n",
    "            return group[1]\n",
    "\n",
    "def selectdrink(drink, group):\n",
    "    for group in group:\n",
    "        if drink in group[0]:\n",
    "            return group[1]\n",
    "\n",
    "df_1 = pd.read_csv('cinema_sessions_R.csv', encoding=\"UTF-8\")\n",
    "df = pd.read_csv('titanic_with_labels_R.csv', encoding=\"UTF-8\")\n",
    "df['sex'] = df[\"sex\"].replace([\"F\", \"ж\", \"Ж\", \"f\"], 1).replace([\"M\", \"m\", \"М\", \"м\"], 0)\n",
    "df = df[df['sex'].apply(str).str.isdigit()]\n",
    "litersDrunkNormalized = df['liters_drunk'][(df['liters_drunk']>= 0) & (df['liters_drunk'] <= 30)]\n",
    "df.loc[(df['liters_drunk'] <= 0) | (df['liters_drunk'] >= 30), 'liters_drunk'] = litersDrunkNormalized.mean()\n",
    "df['age'] = df['age'].apply(select, group=[(18, \"Child\"), (50, \"Adult\"), (99, \"Elderly\")] )\n",
    "df['drink'] = df['drink'].apply(selectdrink, group=[(['Beerbeer', 'Bugbeer', 'Strong beer'], 1),(['Cola', 'Fanta', 'Water'], 0)])\n",
    "df['row_number'] = df['row_number'].fillna(df['row_number'].max())\n",
    "df = pd.merge(df, df_1, on=\"check_number\").rename(columns={\"session_start\" : \"session_type\"})\n",
    "df['session_type'] = df['session_type'].apply(select, group=[(\"12:00:00.000\", \"Morning\"),(\"17:00:00.000\", \"Day\"),(\"24:00:00.000\", \"Evening\")])\n",
    "df"
   ],
   "metadata": {
    "collapsed": false
   }
  }
 ],
 "metadata": {
  "kernelspec": {
   "display_name": "Python 3",
   "language": "python",
   "name": "python3"
  },
  "language_info": {
   "codemirror_mode": {
    "name": "ipython",
    "version": 2
   },
   "file_extension": ".py",
   "mimetype": "text/x-python",
   "name": "python",
   "nbconvert_exporter": "python",
   "pygments_lexer": "ipython2",
   "version": "2.7.6"
  }
 },
 "nbformat": 4,
 "nbformat_minor": 0
}
