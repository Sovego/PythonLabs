{
 "cells": [
  {
   "cell_type": "markdown",
   "source": [
    "# First task"
   ],
   "metadata": {
    "collapsed": false
   }
  },
  {
   "cell_type": "code",
   "execution_count": 8,
   "metadata": {},
   "outputs": [
    {
     "name": "stdout",
     "output_type": "stream",
     "text": [
      "tensor([[[ 0.,  0.,  0.],\n",
      "         [ 1., -2.,  0.],\n",
      "         [ 0., -3.,  0.]]])\n"
     ]
    }
   ],
   "source": [
    "import torch\n",
    "import torch.nn as nn\n",
    "x = torch.tensor(\n",
    "    [[[1, -1, 0],\n",
    "      [2, 0, 1],\n",
    "      [1, 1, 0]],\n",
    "     [[2, 0, 1],\n",
    "     [4, 0, 2],\n",
    "     [2, 0, 1]],\n",
    "     [[1, 1, 0],\n",
    "     [2, 0, 1],\n",
    "     [1, -1, 0]]], dtype=torch.float32)\n",
    "matr = torch.tensor(\n",
    "    [[[1, 0, 1],\n",
    "      [0, -1, -1]],\n",
    "     [[0, -1, 0],\n",
    "     [1, 0, 0]]], dtype=torch.float32).view(1,3, 2, 2)\n",
    "print(nn.functional.conv2d(x,matr,padding=1,dilation=2))"
   ]
  },
  {
   "cell_type": "markdown",
   "source": [
    "# Second Task"
   ],
   "metadata": {
    "collapsed": false
   }
  },
  {
   "cell_type": "code",
   "execution_count": 9,
   "outputs": [
    {
     "name": "stdout",
     "output_type": "stream",
     "text": [
      "55\n"
     ]
    }
   ],
   "source": [
    "from dataclasses import dataclass\n",
    "\n",
    "\n",
    "@dataclass\n",
    "class LayerInfo():\n",
    "    kernelSize: int\n",
    "    padding: int\n",
    "    stride: int\n",
    "    dilation: int\n",
    "\n",
    "\n",
    "def getLayers() -> list[LayerInfo]:\n",
    "    layer1 = LayerInfo(7, 3, 1, 1)\n",
    "    layer2 = LayerInfo(3, 1, 2, 1)\n",
    "    layer3 = LayerInfo(2, 0, 2, 1)\n",
    "    layer4 = LayerInfo(3, 100500, 1, 2)\n",
    "    layer5 = LayerInfo(3, 28, 3, 1)\n",
    "    return list(locals().values())\n",
    "\n",
    "\n",
    "stridesM = 1\n",
    "receptiveField = 1\n",
    "for id, layer in enumerate(getLayers()):\n",
    "    stridesM *= layer.stride\n",
    "    receptiveField += stridesM * ((layer.dilation * (layer.kernelSize-1)))\n",
    "print(receptiveField)\n"
   ],
   "metadata": {
    "collapsed": false
   }
  },
  {
   "cell_type": "markdown",
   "source": [
    "# Third Task"
   ],
   "metadata": {
    "collapsed": false
   }
  },
  {
   "cell_type": "code",
   "execution_count": 10,
   "outputs": [
    {
     "name": "stdout",
     "output_type": "stream",
     "text": [
      "torch.Size([1, 26, 26])\n"
     ]
    }
   ],
   "source": [
    "image = torch.empty((1, 224, 224))\n",
    "\n",
    "conveyor = nn.Sequential(\n",
    "    nn.Conv2d(in_channels=1, out_channels=1,\n",
    "              kernel_size=7, stride=2, padding=3),\n",
    "    nn.Conv2d(in_channels=1, out_channels=1, kernel_size=3, padding=1),\n",
    "    nn.MaxPool2d(2, stride=2),\n",
    "    nn.Conv2d(in_channels=1, out_channels=1, kernel_size=3,\n",
    "              padding=1, stride=2, dilation=3)\n",
    ")\n",
    "\n",
    "print(conveyor(image).shape)"
   ],
   "metadata": {
    "collapsed": false
   }
  }
 ],
 "metadata": {
  "kernelspec": {
   "display_name": "Python 3",
   "language": "python",
   "name": "python3"
  },
  "language_info": {
   "name": "python",
   "version": "3.9.13"
  },
  "orig_nbformat": 4,
  "vscode": {
   "interpreter": {
    "hash": "511a0f8631e8812582e64a0728dd5642040cc1e361fc31eb647cb109d8ee68dd"
   }
  }
 },
 "nbformat": 4,
 "nbformat_minor": 2
}
