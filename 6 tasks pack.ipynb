{
 "cells": [
  {
   "cell_type": "markdown",
   "source": [
    "# 1-3 tasks"
   ],
   "metadata": {
    "collapsed": false
   }
  },
  {
   "cell_type": "code",
   "execution_count": 1,
   "outputs": [],
   "source": [
    "import os\n",
    "import cv2\n",
    "import numpy as np\n",
    "\n",
    "\n",
    "def useMask(mask, img):\n",
    "    mask = cv2.cvtColor(mask, cv2.COLOR_BGR2GRAY)\n",
    "    ##contour, hierarchy = cv2.findContours(mask.copy(), cv2.RETR_TREE, cv2.CHAIN_APPROX_SIMPLE)\n",
    "    return cv2.bitwise_and(img,img,mask=mask)\n",
    "\n",
    "maskedImages = []\n",
    "\n",
    "for name in os.listdir(\"nails/images\"):\n",
    "    if (os.path.isfile(name)):\n",
    "        continue\n",
    "    image = cv2.imread(os.path.join(\"nails/images\", name))\n",
    "    mask = cv2.imread(os.path.join(\"nails/labels\", name))\n",
    "    maskedImages.append(useMask(mask, image))\n",
    "\n",
    "picture = 0\n",
    "while True:\n",
    "    cv2.imshow(\"nails\", maskedImages[picture])\n",
    "    key = cv2.waitKey(0)\n",
    "    if key == ord('a'):\n",
    "        picture = (picture - 1) % len(maskedImages)\n",
    "    if key == ord('d'):\n",
    "        picture = (picture + 1) % len(maskedImages)\n",
    "    if key == ord('q') or key == 27:\n",
    "        break\n",
    "\n",
    "cv2.destroyAllWindows()\n"
   ],
   "metadata": {
    "collapsed": false
   }
  },
  {
   "cell_type": "markdown",
   "source": [
    "# Four task"
   ],
   "metadata": {
    "collapsed": false
   }
  },
  {
   "cell_type": "code",
   "execution_count": 2,
   "outputs": [],
   "source": [
    "import cv2\n",
    "cap = cv2.VideoCapture(\"videoplayback.mp4\")\n",
    "while True:\n",
    "    ret, frame = cap.read()\n",
    "    cv2.imshow('video', cv2.cvtColor(frame,cv2.COLOR_BGR2GRAY))\n",
    "    key = cv2.waitKey(16) & 0xff\n",
    "    if key == 27 or not ret or key == ord('Q') or key == ord('q'):\n",
    "        break\n",
    "cv2.destroyAllWindows()"
   ],
   "metadata": {
    "collapsed": false
   }
  },
  {
   "cell_type": "code",
   "execution_count": null,
   "outputs": [],
   "source": [],
   "metadata": {
    "collapsed": false
   }
  }
 ],
 "metadata": {
  "kernelspec": {
   "display_name": "Python 3",
   "language": "python",
   "name": "python3"
  },
  "language_info": {
   "codemirror_mode": {
    "name": "ipython",
    "version": 2
   },
   "file_extension": ".py",
   "mimetype": "text/x-python",
   "name": "python",
   "nbconvert_exporter": "python",
   "pygments_lexer": "ipython2",
   "version": "2.7.6"
  }
 },
 "nbformat": 4,
 "nbformat_minor": 0
}
