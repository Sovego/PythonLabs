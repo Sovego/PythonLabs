{
 "cells": [
  {
   "cell_type": "markdown",
   "source": [
    "# First Task"
   ],
   "metadata": {
    "collapsed": false
   }
  },
  {
   "cell_type": "code",
   "execution_count": 51,
   "outputs": [
    {
     "data": {
      "text/plain": "0    0.608306\n1    0.608831\n2    0.788830\n3    0.736940\n4    0.683369\n5    0.451119\n6    0.662750\n7    0.802052\n8    0.630484\n9    0.647966\ndtype: float64"
     },
     "execution_count": 51,
     "metadata": {},
     "output_type": "execute_result"
    }
   ],
   "source": [
    "import datetime\n",
    "\n",
    "import numpy as np\n",
    "import pandas as pd\n",
    "np.random.seed(18182)\n",
    "data = np.random.random(size=(10, 5))\n",
    "df = pd.DataFrame(data, columns=['1', '2', '3', '4', '5'])\n",
    "df_ = df.where(df>0.3)\n",
    "mean = df_.mean(axis=1)\n",
    "mean"
   ],
   "metadata": {
    "collapsed": false
   }
  },
  {
   "cell_type": "markdown",
   "source": [
    "# Second Task"
   ],
   "metadata": {
    "collapsed": false
   }
  },
  {
   "cell_type": "code",
   "execution_count": 52,
   "outputs": [
    {
     "data": {
      "text/plain": "0      7\n1      4\n2     11\n3      3\n4      3\n5      4\n6      3\n7      4\n8      5\n9      2\n10     7\n11     1\n12     3\n13     3\n14     2\n15     4\n16     3\n17     7\n18     1\n19     3\n20     4\n21     5\n22     3\n23     5\n24     5\n25     3\n26     4\n27     5\n28     4\n29     6\n30     7\n31     6\n32     8\n33     4\n34     4\n35     1\n36     2\n37     6\n38     3\n39     1\n40     4\n41     4\n42     2\n43     3\n44     3\n45     4\n46     5\n47     4\n48     7\n49     4\ndtype: int64"
     },
     "execution_count": 52,
     "metadata": {},
     "output_type": "execute_result"
    }
   ],
   "source": [
    "import numpy as np\n",
    "import pandas as pd\n",
    "import calendar\n",
    "df = pd.read_csv(\"wells_info.csv\")\n",
    "\n",
    "df = df.assign(SpudDate=pd.to_datetime(df.SpudDate))\n",
    "df = df.assign(CompletionDate=pd.to_datetime(df.CompletionDate))\n",
    "df_ = (df[\"CompletionDate\"]-df['SpudDate']).dt.days\n",
    "df_ = (df_ - (df_ // 365) * 365) // 30\n",
    "df_"
   ],
   "metadata": {
    "collapsed": false
   }
  },
  {
   "cell_type": "markdown",
   "source": [
    "# Third Task"
   ],
   "metadata": {
    "collapsed": false
   }
  },
  {
   "cell_type": "code",
   "execution_count": 53,
   "outputs": [
    {
     "data": {
      "text/plain": "              API CompletionDate      FirstProductionDate       formation  \\\n0   5123402600000     2015-09-13  2015-09-01 00:00:00.000          CODELL   \n1   5123409020000     2015-09-07  2015-09-01 00:00:00.000        NIOBRARA   \n2   5123410480000     2015-04-07  2015-04-01 00:00:00.000        NIOBRARA   \n3  30015414470000     2014-01-07  2013-12-01 00:00:00.000     BONE SPRING   \n4  30025425390000     2015-10-10  2015-08-01 00:00:00.000  WOLFCAMP UPPER   \n5  33053048870100     2014-11-05  2014-11-01 00:00:00.000          BAKKEN   \n6  33053051530000     2014-04-27  2014-04-01 00:00:00.000          BAKKEN   \n\n         BasinName     StateName CountyName   LatWGS84    LonWGS84  \\\n0     DENVER BASIN      COLORADO       WELD  40.353967 -104.944679   \n1     DENVER BASIN      COLORADO       WELD  40.482361 -104.468261   \n2     DENVER BASIN      COLORADO       WELD  40.482361 -103.561306   \n3    PERMIAN BASIN    NEW MEXICO       EDDY  40.482361 -103.561306   \n4    PERMIAN BASIN    NEW MEXICO        LEA  32.080410 -103.530040   \n5     DENVER BASIN  NORTH DAKOTA   MCKENZIE  47.995019 -103.561306   \n6  WILLISTON BASIN  NORTH DAKOTA   MCKENZIE  47.992928 -103.020490   \n\n   PROP_PER_FOOT  \n0       926.5010  \n1       697.0967  \n2       896.9146  \n3       648.1232  \n4      1657.9800  \n5       984.4741  \n6       341.2530  ",
      "text/html": "<div>\n<style scoped>\n    .dataframe tbody tr th:only-of-type {\n        vertical-align: middle;\n    }\n\n    .dataframe tbody tr th {\n        vertical-align: top;\n    }\n\n    .dataframe thead th {\n        text-align: right;\n    }\n</style>\n<table border=\"1\" class=\"dataframe\">\n  <thead>\n    <tr style=\"text-align: right;\">\n      <th></th>\n      <th>API</th>\n      <th>CompletionDate</th>\n      <th>FirstProductionDate</th>\n      <th>formation</th>\n      <th>BasinName</th>\n      <th>StateName</th>\n      <th>CountyName</th>\n      <th>LatWGS84</th>\n      <th>LonWGS84</th>\n      <th>PROP_PER_FOOT</th>\n    </tr>\n  </thead>\n  <tbody>\n    <tr>\n      <th>0</th>\n      <td>5123402600000</td>\n      <td>2015-09-13</td>\n      <td>2015-09-01 00:00:00.000</td>\n      <td>CODELL</td>\n      <td>DENVER BASIN</td>\n      <td>COLORADO</td>\n      <td>WELD</td>\n      <td>40.353967</td>\n      <td>-104.944679</td>\n      <td>926.5010</td>\n    </tr>\n    <tr>\n      <th>1</th>\n      <td>5123409020000</td>\n      <td>2015-09-07</td>\n      <td>2015-09-01 00:00:00.000</td>\n      <td>NIOBRARA</td>\n      <td>DENVER BASIN</td>\n      <td>COLORADO</td>\n      <td>WELD</td>\n      <td>40.482361</td>\n      <td>-104.468261</td>\n      <td>697.0967</td>\n    </tr>\n    <tr>\n      <th>2</th>\n      <td>5123410480000</td>\n      <td>2015-04-07</td>\n      <td>2015-04-01 00:00:00.000</td>\n      <td>NIOBRARA</td>\n      <td>DENVER BASIN</td>\n      <td>COLORADO</td>\n      <td>WELD</td>\n      <td>40.482361</td>\n      <td>-103.561306</td>\n      <td>896.9146</td>\n    </tr>\n    <tr>\n      <th>3</th>\n      <td>30015414470000</td>\n      <td>2014-01-07</td>\n      <td>2013-12-01 00:00:00.000</td>\n      <td>BONE SPRING</td>\n      <td>PERMIAN BASIN</td>\n      <td>NEW MEXICO</td>\n      <td>EDDY</td>\n      <td>40.482361</td>\n      <td>-103.561306</td>\n      <td>648.1232</td>\n    </tr>\n    <tr>\n      <th>4</th>\n      <td>30025425390000</td>\n      <td>2015-10-10</td>\n      <td>2015-08-01 00:00:00.000</td>\n      <td>WOLFCAMP UPPER</td>\n      <td>PERMIAN BASIN</td>\n      <td>NEW MEXICO</td>\n      <td>LEA</td>\n      <td>32.080410</td>\n      <td>-103.530040</td>\n      <td>1657.9800</td>\n    </tr>\n    <tr>\n      <th>5</th>\n      <td>33053048870100</td>\n      <td>2014-11-05</td>\n      <td>2014-11-01 00:00:00.000</td>\n      <td>BAKKEN</td>\n      <td>DENVER BASIN</td>\n      <td>NORTH DAKOTA</td>\n      <td>MCKENZIE</td>\n      <td>47.995019</td>\n      <td>-103.561306</td>\n      <td>984.4741</td>\n    </tr>\n    <tr>\n      <th>6</th>\n      <td>33053051530000</td>\n      <td>2014-04-27</td>\n      <td>2014-04-01 00:00:00.000</td>\n      <td>BAKKEN</td>\n      <td>WILLISTON BASIN</td>\n      <td>NORTH DAKOTA</td>\n      <td>MCKENZIE</td>\n      <td>47.992928</td>\n      <td>-103.020490</td>\n      <td>341.2530</td>\n    </tr>\n  </tbody>\n</table>\n</div>"
     },
     "execution_count": 53,
     "metadata": {},
     "output_type": "execute_result"
    }
   ],
   "source": [
    "import pandas as pd\n",
    "df = pd.read_csv(\"wells_info_na.csv\")\n",
    "df = df.assign(CompletionDate=pd.to_datetime(df.CompletionDate))\n",
    "med1 = df['CompletionDate'].median()\n",
    "med2 = df['LatWGS84'].median()\n",
    "med3 = df['LonWGS84'].median()\n",
    "df['CompletionDate'] = df['CompletionDate'].fillna(med1)\n",
    "df['LonWGS84'] = df['LonWGS84'].fillna(med3)\n",
    "df['LatWGS84'] = df['LatWGS84'].fillna(med2)\n",
    "df_ = df['BasinName'].value_counts().reset_index()\n",
    "df['BasinName'] = df['BasinName'].fillna( df_.iloc[0,0])\n",
    "df_ = df['StateName'].value_counts().reset_index()\n",
    "df['StateName'] = df['StateName'].fillna( df_.iloc[0,0])\n",
    "df"
   ],
   "metadata": {
    "collapsed": false
   }
  },
  {
   "cell_type": "markdown",
   "source": [
    "# Four task"
   ],
   "metadata": {
    "collapsed": false
   }
  },
  {
   "cell_type": "code",
   "execution_count": 158,
   "outputs": [
    {
     "name": "stderr",
     "output_type": "stream",
     "text": [
      "C:\\Users\\egors\\AppData\\Local\\Temp\\ipykernel_3592\\3300879900.py:6: FutureWarning: The default value of numeric_only in DataFrameGroupBy.sum is deprecated. In a future version, numeric_only will default to False. Either specify numeric_only or select only columns which should be valid for the function.\n",
      "  df_ = df.groupby(\"API\").sum()\n"
     ]
    },
    {
     "data": {
      "text/plain": "               API  Month  Liquid\n0    5005072170100    156  201325\n1    5123377130000    156   34625\n2    5123379280000    156   69009\n3    5123379400000    156   81048\n4    5123385820100    156   18050\n5    5123390320000    156   38365\n6    5123390440000    156  108032\n7    5123392690000    156   77472\n8    5123399750000    156   39758\n9    5123402600000    156   91774\n10   5123409020000    156   48796\n11   5123410480000    156   40916\n12  30015414470000    156   70044\n13  30025425390000    156  281523\n14  33023010960000    156  114677\n15  33025026780000    156  246346\n16  33053048870100    156  192598\n17  33053051530000    156  209884\n18  33053056390200    156   96426\n19  33053056550000    156  131333\n20  33053059400000    156  118509\n21  33053061530000    156  177349\n22  33053061600000    156   67576\n23  33053061970000    156  143473\n24  33053062710000    156   76054\n25  33053067490000    156  305750\n26  33061032390000    156   69553\n27  33061033560000    156  150776\n28  33105031270000    156   63100\n29  33105032030000    156  114125\n30  33105034810000    156   65310\n31  33105035380000    156  200140\n32  33105035810000    156   80612\n33  33105036550100    156  107681\n34  33105037690100    156  179799\n35  35017246780000    156   32732\n36  35017246960000    156  159987\n37  35073250300000    156   91761\n38  42105419830000    156   30474\n39  42105420060100    156   68082\n40  42105421020000    156   46242\n41  42105421500000    156   47727\n42  42301318440000    156   37897\n43  42317401950000    156   87498\n44  42371392130100    156  159724\n45  42383381710000    156  102284\n46  42389339940000    156  155902\n47  42389345710000    156  165113\n48  42461395750000    156   95097\n49  49021210550000    156   72608",
      "text/html": "<div>\n<style scoped>\n    .dataframe tbody tr th:only-of-type {\n        vertical-align: middle;\n    }\n\n    .dataframe tbody tr th {\n        vertical-align: top;\n    }\n\n    .dataframe thead th {\n        text-align: right;\n    }\n</style>\n<table border=\"1\" class=\"dataframe\">\n  <thead>\n    <tr style=\"text-align: right;\">\n      <th></th>\n      <th>API</th>\n      <th>Month</th>\n      <th>Liquid</th>\n    </tr>\n  </thead>\n  <tbody>\n    <tr>\n      <th>0</th>\n      <td>5005072170100</td>\n      <td>156</td>\n      <td>201325</td>\n    </tr>\n    <tr>\n      <th>1</th>\n      <td>5123377130000</td>\n      <td>156</td>\n      <td>34625</td>\n    </tr>\n    <tr>\n      <th>2</th>\n      <td>5123379280000</td>\n      <td>156</td>\n      <td>69009</td>\n    </tr>\n    <tr>\n      <th>3</th>\n      <td>5123379400000</td>\n      <td>156</td>\n      <td>81048</td>\n    </tr>\n    <tr>\n      <th>4</th>\n      <td>5123385820100</td>\n      <td>156</td>\n      <td>18050</td>\n    </tr>\n    <tr>\n      <th>5</th>\n      <td>5123390320000</td>\n      <td>156</td>\n      <td>38365</td>\n    </tr>\n    <tr>\n      <th>6</th>\n      <td>5123390440000</td>\n      <td>156</td>\n      <td>108032</td>\n    </tr>\n    <tr>\n      <th>7</th>\n      <td>5123392690000</td>\n      <td>156</td>\n      <td>77472</td>\n    </tr>\n    <tr>\n      <th>8</th>\n      <td>5123399750000</td>\n      <td>156</td>\n      <td>39758</td>\n    </tr>\n    <tr>\n      <th>9</th>\n      <td>5123402600000</td>\n      <td>156</td>\n      <td>91774</td>\n    </tr>\n    <tr>\n      <th>10</th>\n      <td>5123409020000</td>\n      <td>156</td>\n      <td>48796</td>\n    </tr>\n    <tr>\n      <th>11</th>\n      <td>5123410480000</td>\n      <td>156</td>\n      <td>40916</td>\n    </tr>\n    <tr>\n      <th>12</th>\n      <td>30015414470000</td>\n      <td>156</td>\n      <td>70044</td>\n    </tr>\n    <tr>\n      <th>13</th>\n      <td>30025425390000</td>\n      <td>156</td>\n      <td>281523</td>\n    </tr>\n    <tr>\n      <th>14</th>\n      <td>33023010960000</td>\n      <td>156</td>\n      <td>114677</td>\n    </tr>\n    <tr>\n      <th>15</th>\n      <td>33025026780000</td>\n      <td>156</td>\n      <td>246346</td>\n    </tr>\n    <tr>\n      <th>16</th>\n      <td>33053048870100</td>\n      <td>156</td>\n      <td>192598</td>\n    </tr>\n    <tr>\n      <th>17</th>\n      <td>33053051530000</td>\n      <td>156</td>\n      <td>209884</td>\n    </tr>\n    <tr>\n      <th>18</th>\n      <td>33053056390200</td>\n      <td>156</td>\n      <td>96426</td>\n    </tr>\n    <tr>\n      <th>19</th>\n      <td>33053056550000</td>\n      <td>156</td>\n      <td>131333</td>\n    </tr>\n    <tr>\n      <th>20</th>\n      <td>33053059400000</td>\n      <td>156</td>\n      <td>118509</td>\n    </tr>\n    <tr>\n      <th>21</th>\n      <td>33053061530000</td>\n      <td>156</td>\n      <td>177349</td>\n    </tr>\n    <tr>\n      <th>22</th>\n      <td>33053061600000</td>\n      <td>156</td>\n      <td>67576</td>\n    </tr>\n    <tr>\n      <th>23</th>\n      <td>33053061970000</td>\n      <td>156</td>\n      <td>143473</td>\n    </tr>\n    <tr>\n      <th>24</th>\n      <td>33053062710000</td>\n      <td>156</td>\n      <td>76054</td>\n    </tr>\n    <tr>\n      <th>25</th>\n      <td>33053067490000</td>\n      <td>156</td>\n      <td>305750</td>\n    </tr>\n    <tr>\n      <th>26</th>\n      <td>33061032390000</td>\n      <td>156</td>\n      <td>69553</td>\n    </tr>\n    <tr>\n      <th>27</th>\n      <td>33061033560000</td>\n      <td>156</td>\n      <td>150776</td>\n    </tr>\n    <tr>\n      <th>28</th>\n      <td>33105031270000</td>\n      <td>156</td>\n      <td>63100</td>\n    </tr>\n    <tr>\n      <th>29</th>\n      <td>33105032030000</td>\n      <td>156</td>\n      <td>114125</td>\n    </tr>\n    <tr>\n      <th>30</th>\n      <td>33105034810000</td>\n      <td>156</td>\n      <td>65310</td>\n    </tr>\n    <tr>\n      <th>31</th>\n      <td>33105035380000</td>\n      <td>156</td>\n      <td>200140</td>\n    </tr>\n    <tr>\n      <th>32</th>\n      <td>33105035810000</td>\n      <td>156</td>\n      <td>80612</td>\n    </tr>\n    <tr>\n      <th>33</th>\n      <td>33105036550100</td>\n      <td>156</td>\n      <td>107681</td>\n    </tr>\n    <tr>\n      <th>34</th>\n      <td>33105037690100</td>\n      <td>156</td>\n      <td>179799</td>\n    </tr>\n    <tr>\n      <th>35</th>\n      <td>35017246780000</td>\n      <td>156</td>\n      <td>32732</td>\n    </tr>\n    <tr>\n      <th>36</th>\n      <td>35017246960000</td>\n      <td>156</td>\n      <td>159987</td>\n    </tr>\n    <tr>\n      <th>37</th>\n      <td>35073250300000</td>\n      <td>156</td>\n      <td>91761</td>\n    </tr>\n    <tr>\n      <th>38</th>\n      <td>42105419830000</td>\n      <td>156</td>\n      <td>30474</td>\n    </tr>\n    <tr>\n      <th>39</th>\n      <td>42105420060100</td>\n      <td>156</td>\n      <td>68082</td>\n    </tr>\n    <tr>\n      <th>40</th>\n      <td>42105421020000</td>\n      <td>156</td>\n      <td>46242</td>\n    </tr>\n    <tr>\n      <th>41</th>\n      <td>42105421500000</td>\n      <td>156</td>\n      <td>47727</td>\n    </tr>\n    <tr>\n      <th>42</th>\n      <td>42301318440000</td>\n      <td>156</td>\n      <td>37897</td>\n    </tr>\n    <tr>\n      <th>43</th>\n      <td>42317401950000</td>\n      <td>156</td>\n      <td>87498</td>\n    </tr>\n    <tr>\n      <th>44</th>\n      <td>42371392130100</td>\n      <td>156</td>\n      <td>159724</td>\n    </tr>\n    <tr>\n      <th>45</th>\n      <td>42383381710000</td>\n      <td>156</td>\n      <td>102284</td>\n    </tr>\n    <tr>\n      <th>46</th>\n      <td>42389339940000</td>\n      <td>156</td>\n      <td>155902</td>\n    </tr>\n    <tr>\n      <th>47</th>\n      <td>42389345710000</td>\n      <td>156</td>\n      <td>165113</td>\n    </tr>\n    <tr>\n      <th>48</th>\n      <td>42461395750000</td>\n      <td>156</td>\n      <td>95097</td>\n    </tr>\n    <tr>\n      <th>49</th>\n      <td>49021210550000</td>\n      <td>156</td>\n      <td>72608</td>\n    </tr>\n  </tbody>\n</table>\n</div>"
     },
     "execution_count": 158,
     "metadata": {},
     "output_type": "execute_result"
    }
   ],
   "source": [
    "import pandas as pd\n",
    "\n",
    "\n",
    "\n",
    "df = pd.read_csv(\"production.csv\")\n",
    "df_ = df.groupby(\"API\").sum()\n",
    "df_1 = df_['Liquid']\n",
    "#df_2 = df.groupby(by=[\"API\",'Year','Month']).sum().reset_index()\n",
    "df_2 = df[['API','Month','Liquid']]\n",
    "df_2 = df_2.groupby(['API']).sum().reset_index()\n",
    "df_2"
   ],
   "metadata": {
    "collapsed": false
   }
  },
  {
   "cell_type": "code",
   "execution_count": null,
   "outputs": [],
   "source": [],
   "metadata": {
    "collapsed": false
   }
  }
 ],
 "metadata": {
  "kernelspec": {
   "display_name": "Python 3",
   "language": "python",
   "name": "python3"
  },
  "language_info": {
   "codemirror_mode": {
    "name": "ipython",
    "version": 2
   },
   "file_extension": ".py",
   "mimetype": "text/x-python",
   "name": "python",
   "nbconvert_exporter": "python",
   "pygments_lexer": "ipython2",
   "version": "2.7.6"
  }
 },
 "nbformat": 4,
 "nbformat_minor": 0
}
